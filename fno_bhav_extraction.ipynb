{
 "cells": [
  {
   "cell_type": "code",
   "execution_count": null,
   "metadata": {},
   "outputs": [],
   "source": [
    "import datetime\n",
    "import nselib\n",
    "from nselib import derivatives\n",
    "import pandas as pd\n",
    "\n",
    "def get_weekdays(start_date, end_date):\n",
    "    start_date = datetime.datetime.strptime(start_date, '%d-%m-%Y')\n",
    "    end_date = datetime.datetime.strptime(end_date, '%d-%m-%Y')\n",
    "\n",
    "    weekdays = []\n",
    "    current_date = start_date\n",
    "\n",
    "    while current_date <= end_date:\n",
    "        if current_date.weekday() not in [5, 6]:  # Exclude Saturday and Sunday\n",
    "            weekdays.append(current_date.strftime('%d-%m-%Y'))\n",
    "        current_date += datetime.timedelta(days=1)\n",
    "\n",
    "    return weekdays\n",
    "\n",
    "\n",
    "def save_fno_bhav_copy_to_csv(date):\n",
    "    try:\n",
    "        df = pd.DataFrame(derivatives.fno_bhav_copy(date))\n",
    "        filtered_df = df[df['FinInstrmTp'] == 'STF']\n",
    "        filename = f\"fno_bhavcopy_{date}.csv\"\n",
    "        filtered_df.to_csv(filename, index=False)\n",
    "        print(f\"Bhavcopy data for {date} saved successfully.\")\n",
    "    except Exception as e:\n",
    "        print(f\"Error fetching Bhavcopy data for {date}: {str(e)}\")\n",
    "\n",
    "start_date = '30-03-2024'\n",
    "end_date = '31-12-2024'\n",
    "\n",
    "weekday_dates = get_weekdays(start_date, end_date)\n",
    "\n",
    "for date in weekday_dates:\n",
    "  if  date != '26-01-2024':\n",
    "    save_fno_bhav_copy_to_csv(date)"
   ]
  },
  {
   "cell_type": "code",
   "execution_count": null,
   "metadata": {},
   "outputs": [],
   "source": [
    "import glob\n",
    "# Find all CSV files in the 'data' directory\n",
    "files = glob.glob('data/*.csv')\n",
    "\n",
    "# Read and concatenate the CSV files\n",
    "df = pd.concat([pd.read_csv(file) for file in files], ignore_index=True)\n",
    "# Save the combined data to a new CSV file\n",
    "df.to_csv('combined_fno_bhav_2024.csv', index=False)"
   ]
  }
 ],
 "metadata": {
  "kernelspec": {
   "display_name": "base",
   "language": "python",
   "name": "python3"
  },
  "language_info": {
   "name": "python",
   "version": "3.12.2"
  }
 },
 "nbformat": 4,
 "nbformat_minor": 2
}
